{
 "cells": [
  {
   "cell_type": "code",
   "execution_count": 2,
   "metadata": {
    "collapsed": true
   },
   "outputs": [
    {
     "name": "stdout",
     "output_type": "stream",
     "text": [
      "0:\tlearn: 2.8656402\ttotal: 1.69ms\tremaining: 15.2ms\n",
      "1:\tlearn: 2.8638473\ttotal: 3.21ms\tremaining: 12.8ms\n",
      "2:\tlearn: 2.8618550\ttotal: 4.48ms\tremaining: 10.4ms\n",
      "3:\tlearn: 2.8600198\ttotal: 5.83ms\tremaining: 8.74ms\n",
      "4:\tlearn: 2.8580398\ttotal: 7.07ms\tremaining: 7.07ms\n",
      "5:\tlearn: 2.8566156\ttotal: 8.48ms\tremaining: 5.65ms\n",
      "6:\tlearn: 2.8550760\ttotal: 9.68ms\tremaining: 4.15ms\n",
      "7:\tlearn: 2.8532027\ttotal: 10.9ms\tremaining: 2.72ms\n",
      "8:\tlearn: 2.8517896\ttotal: 12.2ms\tremaining: 1.36ms\n",
      "9:\tlearn: 2.8499753\ttotal: 13.5ms\tremaining: 0us\n",
      "CatBoost Training time: 0.04 seconds\n",
      "CatBoost RMSE: 55.0452\n",
      "XGBoost Training time: 0.03 seconds\n",
      "XGBoost RMSE: 55.0440\n"
     ]
    }
   ],
   "source": [
    "import numpy as np\n",
    "import time\n",
    "from catboost import CatBoostRegressor\n",
    "from xgboost import XGBRegressor\n",
    "from sklearn.metrics import mean_squared_error\n",
    "\n",
    "# Generate a larger dataset\n",
    "np.random.seed(42)\n",
    "train_data = np.random.randn(100000, 100)\n",
    "train_labels = np.random.randint(0, 100, 100000)\n",
    "eval_data = np.random.randn(1000, 10)\n",
    "eval_labels = np.random.randint(0, 100, 1000)\n",
    "\n",
    "# Initialize models\n",
    "catboost_model = CatBoostRegressor(iterations=10, learning_rate=0.1, depth=6)\n",
    "xgb_model = XGBRegressor(n_estimators=10, learning_rate=0.1, max_depth=6)\n",
    "\n",
    "# Train and time CatBoost\n",
    "start_time = time.time()\n",
    "catboost_model.fit(train_data, train_labels)\n",
    "cat_end_time = time.time()\n",
    "catboost_time = cat_end_time - start_time\n",
    "cat_preds = catboost_model.predict(eval_data)\n",
    "cat_rmse = np.sqrt(mean_squared_error(eval_labels, cat_preds))\n",
    "\n",
    "# Train and time XGBoost\n",
    "start_time = time.time()\n",
    "xgb_model.fit(train_data, train_labels)\n",
    "xgb_end_time = time.time()\n",
    "xgb_time = xgb_end_time - start_time\n",
    "xgb_preds = xgb_model.predict(eval_data)\n",
    "xgb_rmse = np.sqrt(mean_squared_error(eval_labels, xgb_preds))\n",
    "\n",
    "# Output the results\n",
    "print(f\"CatBoost Training time: {catboost_time:.2f} seconds\")\n",
    "print(f\"CatBoost RMSE: {cat_rmse:.4f}\")\n",
    "\n",
    "print(f\"XGBoost Training time: {xgb_time:.2f} seconds\")\n",
    "print(f\"XGBoost RMSE: {xgb_rmse:.4f}\")\n"
   ]
  },
  {
   "cell_type": "code",
   "execution_count": 5,
   "outputs": [
    {
     "name": "stdout",
     "output_type": "stream",
     "text": [
      "Learning rate set to 0.058839\n",
      "0:\tlearn: 0.6879879\ttotal: 515us\tremaining: 4.64ms\n",
      "1:\tlearn: 0.6815359\ttotal: 541us\tremaining: 2.16ms\n",
      "2:\tlearn: 0.6765024\ttotal: 567us\tremaining: 1.32ms\n",
      "3:\tlearn: 0.6715240\ttotal: 590us\tremaining: 885us\n",
      "4:\tlearn: 0.6652874\ttotal: 608us\tremaining: 608us\n",
      "5:\tlearn: 0.6591318\ttotal: 624us\tremaining: 416us\n",
      "6:\tlearn: 0.6543318\ttotal: 646us\tremaining: 277us\n",
      "7:\tlearn: 0.6495883\ttotal: 668us\tremaining: 167us\n",
      "8:\tlearn: 0.6436365\ttotal: 684us\tremaining: 76us\n",
      "9:\tlearn: 0.6377620\ttotal: 699us\tremaining: 0us\n"
     ]
    }
   ],
   "source": [
    "from catboost import CatBoostClassifier, Pool\n",
    "\n",
    "train_data = Pool(data=[[1, 4, 5, 6],\n",
    "                        [4, 5, 6, 7],\n",
    "                        [30, 40, 50, 60]],\n",
    "                  label=[1, 1, -1],\n",
    "                  weight=[0.1, 0.2, 0.3])\n",
    "\n",
    "model = CatBoostClassifier(iterations=10)\n",
    "\n",
    "model.fit(train_data)\n",
    "preds_class = model.predict(train_data)"
   ],
   "metadata": {
    "collapsed": false
   }
  },
  {
   "cell_type": "code",
   "execution_count": null,
   "outputs": [],
   "source": [],
   "metadata": {
    "collapsed": false
   }
  }
 ],
 "metadata": {
  "kernelspec": {
   "display_name": "Python 3",
   "language": "python",
   "name": "python3"
  },
  "language_info": {
   "codemirror_mode": {
    "name": "ipython",
    "version": 2
   },
   "file_extension": ".py",
   "mimetype": "text/x-python",
   "name": "python",
   "nbconvert_exporter": "python",
   "pygments_lexer": "ipython2",
   "version": "2.7.6"
  }
 },
 "nbformat": 4,
 "nbformat_minor": 0
}
